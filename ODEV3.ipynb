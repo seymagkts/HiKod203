{
 "cells": [
  {
   "cell_type": "markdown",
   "id": "ec79a0ef",
   "metadata": {},
   "source": [
    "• Kullanıcıdan pi değeri ve yarıçap bilgisi alarak dairenin alanını hesaplayan bir fonksiyon oluşturulur."
   ]
  },
  {
   "cell_type": "code",
   "execution_count": 12,
   "id": "eecb80ed",
   "metadata": {},
   "outputs": [],
   "source": [
    "def alan_hesapla(pi,r):\n",
    "    return pi * (r ** 2)"
   ]
  },
  {
   "cell_type": "code",
   "execution_count": 13,
   "id": "318b0ca5",
   "metadata": {},
   "outputs": [
    {
     "name": "stdout",
     "output_type": "stream",
     "text": [
      "Pi değeri giriniz: 3\n",
      "Yarıcap değeri giriniz: 5\n",
      "75\n"
     ]
    }
   ],
   "source": [
    "pi_kullanici = int(input('Pi değeri giriniz: '))\n",
    "yaricap_kullanici =  int(input('Yarıcap değeri giriniz: '))\n",
    "print(alan_hesapla(pi_kullanici,yaricap_kullanici))"
   ]
  },
  {
   "cell_type": "markdown",
   "id": "3593d484",
   "metadata": {},
   "source": [
    "• Faktöriyel adında fonksiyon oluşturulur. Döngü kullanarak parametre olarak girilen sayının faktöriyeli hesaplanır. Format metodunu kullanılarak ekrana yazdırılır."
   ]
  },
  {
   "cell_type": "code",
   "execution_count": 66,
   "id": "5bc14a2f",
   "metadata": {},
   "outputs": [],
   "source": [
    "def faktoriyel(sayi):\n",
    "    faktoriyel = 1\n",
    "    for i in range(1,sayi+1):\n",
    "        faktoriyel *= i\n",
    "    print(f\"{sayi}! = {faktoriyel}\")"
   ]
  },
  {
   "cell_type": "code",
   "execution_count": 67,
   "id": "9cd68ed0",
   "metadata": {},
   "outputs": [
    {
     "name": "stdout",
     "output_type": "stream",
     "text": [
      "6! = 720\n"
     ]
    }
   ],
   "source": [
    "faktoriyel(6)"
   ]
  },
  {
   "cell_type": "markdown",
   "id": "9dab0631",
   "metadata": {},
   "source": [
    "• Kişinin fonksiyona doğum yılını vererek kaç yaşında olduğunu hesaplayan bir fonksiyon oluşturun. "
   ]
  },
  {
   "cell_type": "code",
   "execution_count": 92,
   "id": "87237637",
   "metadata": {},
   "outputs": [],
   "source": [
    "from datetime import datetime\n",
    "def yas_hesapla(yil):\n",
    "    suankiyil = datetime.now().year\n",
    "    yas = suankiyil - yil\n",
    "    return yas"
   ]
  },
  {
   "cell_type": "code",
   "execution_count": 93,
   "id": "ea1fb64d",
   "metadata": {},
   "outputs": [
    {
     "name": "stdout",
     "output_type": "stream",
     "text": [
      "Doğum yılınızı giriniz: 2016\n",
      "Su anki yasınız: 8\n"
     ]
    }
   ],
   "source": [
    "dogum_yili = int(input(\"Doğum yılınızı giriniz: \"))\n",
    "print(f\"Su anki yasınız: {yas_hesapla(dogum_yili)}\")"
   ]
  },
  {
   "cell_type": "markdown",
   "id": "abe1876b",
   "metadata": {},
   "source": [
    "• Doğum yılı ve isim bilgisi verilen fonksiyon kişinin emekli olup olmadığını söylesin.(Kişi 65 yaşında ise emekli olur.) Burada yaş hesabını yukarıdaki örnekteki fonksiyonu kullanarak yapsın.(Yani fonksiyon içinde fonksiyon kullanmanızı istiyorum :)) Kişi 65 yaşında ya da daha fazlaysa \"Emekli oldunuz\" yanıtını, 65 yaşından küçükse emekliliğine kaç yıl kaldığını da hesaplayarak \"(isim) emekliliğine (yıl) kaldı.\" yanıtını versin."
   ]
  },
  {
   "cell_type": "code",
   "execution_count": 94,
   "id": "593af2c2",
   "metadata": {},
   "outputs": [],
   "source": [
    "def emeklilik(yil,isim):\n",
    "    if yas_hesapla(yil) >= 65:\n",
    "        print(\"Emekli oldunuz.\")\n",
    "    else:\n",
    "        print(f\"{isim} emekliliğine {(65-yas_hesapla(yil))} yıl kaldı.\" )"
   ]
  },
  {
   "cell_type": "code",
   "execution_count": 97,
   "id": "68f43220",
   "metadata": {},
   "outputs": [
    {
     "name": "stdout",
     "output_type": "stream",
     "text": [
      "Seyma emekliliğine 41 yıl kaldı.\n"
     ]
    }
   ],
   "source": [
    "emeklilik(2000,\"Seyma\")"
   ]
  },
  {
   "cell_type": "code",
   "execution_count": null,
   "id": "f594ea8c",
   "metadata": {},
   "outputs": [],
   "source": []
  }
 ],
 "metadata": {
  "kernelspec": {
   "display_name": "Python 3 (ipykernel)",
   "language": "python",
   "name": "python3"
  },
  "language_info": {
   "codemirror_mode": {
    "name": "ipython",
    "version": 3
   },
   "file_extension": ".py",
   "mimetype": "text/x-python",
   "name": "python",
   "nbconvert_exporter": "python",
   "pygments_lexer": "ipython3",
   "version": "3.9.13"
  }
 },
 "nbformat": 4,
 "nbformat_minor": 5
}
