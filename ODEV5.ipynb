{
 "cells": [
  {
   "cell_type": "markdown",
   "id": "c6a0ffe6",
   "metadata": {},
   "source": [
    "Bir sözlük oluşturulur ve bu sözlükte öğrencilerin isimleri ve Matematik, Fizik, Kimya notları tutulur. \n",
    "Kullanıcıdan isim ve ders ismi(Matematik, Fizik, Kimya) istenir ve bu bilgilere göre çıktı verilir.\n",
    "\n",
    "\n",
    "\n"
   ]
  },
  {
   "cell_type": "code",
   "execution_count": 70,
   "id": "ebef8c84",
   "metadata": {},
   "outputs": [],
   "source": [
    "sozluk = {\"Şeyma\": {\"Matematik\": 78, \"Fizik\": 33, \"Kimya\": 47},\n",
    "         \"Gül\": {\"Matematik\": 88, \"Fizik\": 80, \"Kimya\": 93},\n",
    "         \"Ali\": {\"Matematik\": 40, \"Fizik\": 45, \"Kimya\": 46},\n",
    "         \"Ayşe\": {\"Matematik\": 100, \"Fizik\": 99, \"Kimya\": 98},\n",
    "         \"Veli\": {\"Matematik\": 22, \"Fizik\": 16, \"Kimya\": 12}}"
   ]
  },
  {
   "cell_type": "code",
   "execution_count": 71,
   "id": "93ff2920",
   "metadata": {},
   "outputs": [],
   "source": [
    "def not_sorgula(isim,ders):\n",
    "    isim_ = isim.capitalize()\n",
    "    ders_ = ders.capitalize()\n",
    "    if isim_ in sozluk:\n",
    "        if ders_ in [\"Matematik\",\"Fizik\",\"Kimya\"]:\n",
    "            ders_notu = sozluk[isim_].get(ders_)\n",
    "            return ders_notu\n",
    "        else: \n",
    "            return \"Böyle bir ders yoktur\"\n",
    "    else: \n",
    "        return \"Böyle bir öğrenci yoktur\""
   ]
  },
  {
   "cell_type": "code",
   "execution_count": 73,
   "id": "fdf8871a",
   "metadata": {},
   "outputs": [
    {
     "name": "stdout",
     "output_type": "stream",
     "text": [
      "46\n"
     ]
    }
   ],
   "source": [
    "print(not_sorgula(\"ali\",\"kimya\"))"
   ]
  },
  {
   "cell_type": "code",
   "execution_count": 74,
   "id": "9d30ee41",
   "metadata": {},
   "outputs": [
    {
     "name": "stdout",
     "output_type": "stream",
     "text": [
      "Böyle bir öğrenci yoktur\n"
     ]
    }
   ],
   "source": [
    "print(not_sorgula(\"elif\",\"kimya\"))"
   ]
  },
  {
   "cell_type": "code",
   "execution_count": 75,
   "id": "08747eda",
   "metadata": {},
   "outputs": [
    {
     "name": "stdout",
     "output_type": "stream",
     "text": [
      "Böyle bir ders yoktur\n"
     ]
    }
   ],
   "source": [
    "print(not_sorgula(\"şeyma\",\"sosyal bilgiler\"))"
   ]
  },
  {
   "cell_type": "markdown",
   "id": "c3f799c7",
   "metadata": {},
   "source": [
    "Sözlük üzerinde değerleri değiştirme, yeni değer ekleme, kullanıcıya ulaşmak istediği bilgileri sorma gibi uygulamalar yapın.\n"
   ]
  },
  {
   "cell_type": "code",
   "execution_count": 149,
   "id": "985cdf20",
   "metadata": {},
   "outputs": [],
   "source": [
    "def uygula():\n",
    "    while True:\n",
    "        print(\"**************************************\")\n",
    "        print(\"\"\"q. Çıkış \\n1. Yeni değer ekle \\n2. Değer değiştir \\n3. Değer ara \\n4. Değer sil \\n5. Sözlüğü görüntüle\"\"\")\n",
    "        islem_turu = input(\"Yapılacak islemi seciniz: \")\n",
    "        \n",
    "        if islem_turu.lower() == \"q\":\n",
    "            print(\"İslem Sonlandırıldı...\")\n",
    "            break\n",
    "            \n",
    "        elif islem_turu == \"1\":\n",
    "            ekle_isim = input(\"İsim giriniz: \").capitalize()\n",
    "            if ekle_isim not in sozluk:\n",
    "                ekle_mat = int(input(\"Matematik notunuzu giriniz: \"))\n",
    "                ekle_fiz = int(input(\"Fizik notunuzu giriniz: \"))\n",
    "                ekle_kim = int(input(\"Kimya notunuzu giriniz: \"))\n",
    "                yeni_sozluk = { ekle_isim.capitalize() : {\"Matematik\": ekle_mat, \"Fizik\":ekle_fiz,\"Kimya\":ekle_kim}}\n",
    "                sozluk.update(yeni_sozluk)\n",
    "                print(f\"{ekle_isim} adlı öğrenci kaydedilmiştir.\")\n",
    "            else:\n",
    "                print(\"Bu isimde başka bir kayıt var!\")\n",
    "                    \n",
    "        elif islem_turu == \"2\":\n",
    "            degistir_isim = input(\"Kaydı değiştirilecek öğrencinin adını giriniz: \").capitalize()\n",
    "            if degistir_isim in sozluk:\n",
    "                degistir_ders = input(\"Kaydı değiştirilecek dersin adını giriniz: \").capitalize()\n",
    "                if degistir_ders in sozluk[degistir_isim]:\n",
    "                    degistir_not = int(input(\"Yeni notu giriniz: \"))\n",
    "                    sozluk[degistir_isim][degistir_ders] = degistir_not\n",
    "                    print(\"Değişiklik tamamlandı.\")\n",
    "                else: print(\"Böyle bir ders bulunmamaktadır.\")\n",
    "            else: print(\"Böyle bir öğrenci bulunmamaktadır.\")\n",
    "\n",
    "        elif islem_turu == \"3\":\n",
    "            aranacak_deger = input(\"Aramak istediğiniz ismi giriniz: \").capitalize()\n",
    "            if aranacak_deger in sozluk:\n",
    "                print(sozluk.get(aranacak_deger))\n",
    "            else: print(\"Böyle bir öğrenci bulunmamaktadır.\")\n",
    "    \n",
    "        elif islem_turu == \"4\":\n",
    "            sil_ = input(\"Silinecek ismi giriniz: \")\n",
    "            sil_cap = sil_.capitalize()\n",
    "            if sil_cap in sozluk:\n",
    "                sozluk.pop(sil_cap)\n",
    "                print(f\"{sil_} adlı öğrenci silinmiştir.\")\n",
    "            else: print(\"Böyle bir öğrenci bulunmamaktadır.\")\n",
    "            \n",
    "        elif islem_turu == \"5\":\n",
    "            print(\"**************************************\")\n",
    "            for key,val in sozluk.items():\n",
    "                print(f\"{key}: {val}\")\n",
    "        else: \n",
    "            print(\"Gecersiz islem girdiniz.\")\n",
    "            continue\n",
    "\n",
    "    "
   ]
  },
  {
   "cell_type": "code",
   "execution_count": 150,
   "id": "8a87ab2f",
   "metadata": {},
   "outputs": [
    {
     "name": "stdout",
     "output_type": "stream",
     "text": [
      "**************************************\n",
      "q. Çıkış \n",
      "1. Yeni değer ekle \n",
      "2. Değer değiştir \n",
      "3. Değer ara \n",
      "4. Değer sil \n",
      "5. Sözlüğü görüntüle\n",
      "Yapılacak islemi seciniz: 1\n",
      "İsim giriniz: şeyma\n",
      "Bu isimde başka bir kayıt var!\n",
      "**************************************\n",
      "q. Çıkış \n",
      "1. Yeni değer ekle \n",
      "2. Değer değiştir \n",
      "3. Değer ara \n",
      "4. Değer sil \n",
      "5. Sözlüğü görüntüle\n",
      "Yapılacak islemi seciniz: 1\n",
      "İsim giriniz: ahmet\n",
      "Matematik notunuzu giriniz: 41\n",
      "Fizik notunuzu giriniz: 36\n",
      "Kimya notunuzu giriniz: 88\n",
      "Ahmet adlı öğrenci kaydedilmiştir.\n",
      "**************************************\n",
      "q. Çıkış \n",
      "1. Yeni değer ekle \n",
      "2. Değer değiştir \n",
      "3. Değer ara \n",
      "4. Değer sil \n",
      "5. Sözlüğü görüntüle\n",
      "Yapılacak islemi seciniz: 2\n",
      "Kaydı değiştirilecek öğrencinin adını giriniz: ahmet\n",
      "Kaydı değiştirilecek dersin adını giriniz: fizik\n",
      "Yeni notu giriniz: 56\n",
      "Değişiklik tamamlandı.\n",
      "**************************************\n",
      "q. Çıkış \n",
      "1. Yeni değer ekle \n",
      "2. Değer değiştir \n",
      "3. Değer ara \n",
      "4. Değer sil \n",
      "5. Sözlüğü görüntüle\n",
      "Yapılacak islemi seciniz: 3\n",
      "Aramak istediğiniz ismi giriniz: ahmet\n",
      "{'Matematik': 41, 'Fizik': 56, 'Kimya': 88}\n",
      "**************************************\n",
      "q. Çıkış \n",
      "1. Yeni değer ekle \n",
      "2. Değer değiştir \n",
      "3. Değer ara \n",
      "4. Değer sil \n",
      "5. Sözlüğü görüntüle\n",
      "Yapılacak islemi seciniz: 5\n",
      "**************************************\n",
      "Şeyma: {'Matematik': 56, 'Fizik': 13, 'Kimya': 5}\n",
      "Gül: {'Matematik': 88, 'Fizik': 80, 'Kimya': 93}\n",
      "Ali: {'Matematik': 40, 'Fizik': 100, 'Kimya': 46}\n",
      "Ayşe: {'Matematik': 100, 'Fizik': 99, 'Kimya': 98}\n",
      "Ahmet: {'Matematik': 41, 'Fizik': 56, 'Kimya': 88}\n",
      "**************************************\n",
      "q. Çıkış \n",
      "1. Yeni değer ekle \n",
      "2. Değer değiştir \n",
      "3. Değer ara \n",
      "4. Değer sil \n",
      "5. Sözlüğü görüntüle\n",
      "Yapılacak islemi seciniz: 4\n",
      "Silinecek ismi giriniz: melek\n",
      "Böyle bir öğrenci bulunmamaktadır.\n",
      "**************************************\n",
      "q. Çıkış \n",
      "1. Yeni değer ekle \n",
      "2. Değer değiştir \n",
      "3. Değer ara \n",
      "4. Değer sil \n",
      "5. Sözlüğü görüntüle\n",
      "Yapılacak islemi seciniz: 4\n",
      "Silinecek ismi giriniz: ahmet\n",
      "ahmet adlı öğrenci silinmiştir.\n",
      "**************************************\n",
      "q. Çıkış \n",
      "1. Yeni değer ekle \n",
      "2. Değer değiştir \n",
      "3. Değer ara \n",
      "4. Değer sil \n",
      "5. Sözlüğü görüntüle\n",
      "Yapılacak islemi seciniz: 5\n",
      "**************************************\n",
      "Şeyma: {'Matematik': 56, 'Fizik': 13, 'Kimya': 5}\n",
      "Gül: {'Matematik': 88, 'Fizik': 80, 'Kimya': 93}\n",
      "Ali: {'Matematik': 40, 'Fizik': 100, 'Kimya': 46}\n",
      "Ayşe: {'Matematik': 100, 'Fizik': 99, 'Kimya': 98}\n",
      "**************************************\n",
      "q. Çıkış \n",
      "1. Yeni değer ekle \n",
      "2. Değer değiştir \n",
      "3. Değer ara \n",
      "4. Değer sil \n",
      "5. Sözlüğü görüntüle\n",
      "Yapılacak islemi seciniz: q\n",
      "İslem Sonlandırıldı...\n"
     ]
    }
   ],
   "source": [
    "uygula()"
   ]
  },
  {
   "cell_type": "code",
   "execution_count": null,
   "id": "dcdb8bbe",
   "metadata": {},
   "outputs": [],
   "source": []
  },
  {
   "cell_type": "code",
   "execution_count": null,
   "id": "5ab1fefb",
   "metadata": {},
   "outputs": [],
   "source": []
  }
 ],
 "metadata": {
  "kernelspec": {
   "display_name": "Python 3 (ipykernel)",
   "language": "python",
   "name": "python3"
  },
  "language_info": {
   "codemirror_mode": {
    "name": "ipython",
    "version": 3
   },
   "file_extension": ".py",
   "mimetype": "text/x-python",
   "name": "python",
   "nbconvert_exporter": "python",
   "pygments_lexer": "ipython3",
   "version": "3.9.13"
  }
 },
 "nbformat": 4,
 "nbformat_minor": 5
}
