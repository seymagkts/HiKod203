{
 "cells": [
  {
   "cell_type": "markdown",
   "id": "d7027c88",
   "metadata": {},
   "source": [
    "Bir sözlük oluşturulur ve bu sözlükte öğrencilerin isimleri ve Matematik, Fizik, Kimya notları tutulur. \n",
    "Kullanıcıdan isim ve ders ismi(Matematik, Fizik, Kimya) istenir ve bu bilgilere göre çıktı verilir.\n",
    "\n",
    "\n",
    "\n"
   ]
  },
  {
   "cell_type": "code",
   "execution_count": 70,
   "id": "9dd451a1",
   "metadata": {},
   "outputs": [],
   "source": [
    "sozluk = {\"Şeyma\": {\"Matematik\": 78, \"Fizik\": 33, \"Kimya\": 47},\n",
    "         \"Gül\": {\"Matematik\": 88, \"Fizik\": 80, \"Kimya\": 93},\n",
    "         \"Ali\": {\"Matematik\": 40, \"Fizik\": 45, \"Kimya\": 46},\n",
    "         \"Ayşe\": {\"Matematik\": 100, \"Fizik\": 99, \"Kimya\": 98},\n",
    "         \"Veli\": {\"Matematik\": 22, \"Fizik\": 16, \"Kimya\": 12}}"
   ]
  },
  {
   "cell_type": "code",
   "execution_count": 71,
   "id": "adbf72cb",
   "metadata": {},
   "outputs": [],
   "source": [
    "def not_sorgula(isim,ders):\n",
    "    isim_ = isim.capitalize()\n",
    "    ders_ = ders.capitalize()\n",
    "    if isim_ in sozluk:\n",
    "        if ders_ in [\"Matematik\",\"Fizik\",\"Kimya\"]:\n",
    "            ders_notu = sozluk[isim_].get(ders_)\n",
    "            return ders_notu\n",
    "        else: \n",
    "            return \"Böyle bir ders yoktur\"\n",
    "    else: \n",
    "        return \"Böyle bir öğrenci yoktur\""
   ]
  },
  {
   "cell_type": "code",
   "execution_count": 73,
   "id": "c44475c5",
   "metadata": {},
   "outputs": [
    {
     "name": "stdout",
     "output_type": "stream",
     "text": [
      "46\n"
     ]
    }
   ],
   "source": [
    "print(not_sorgula(\"ali\",\"kimya\"))"
   ]
  },
  {
   "cell_type": "code",
   "execution_count": 74,
   "id": "2fcacb09",
   "metadata": {},
   "outputs": [
    {
     "name": "stdout",
     "output_type": "stream",
     "text": [
      "Böyle bir öğrenci yoktur\n"
     ]
    }
   ],
   "source": [
    "print(not_sorgula(\"elif\",\"kimya\"))"
   ]
  },
  {
   "cell_type": "code",
   "execution_count": 75,
   "id": "db2ee3e9",
   "metadata": {},
   "outputs": [
    {
     "name": "stdout",
     "output_type": "stream",
     "text": [
      "Böyle bir ders yoktur\n"
     ]
    }
   ],
   "source": [
    "print(not_sorgula(\"şeyma\",\"sosyal bilgiler\"))"
   ]
  },
  {
   "cell_type": "markdown",
   "id": "ea00906a",
   "metadata": {},
   "source": [
    "Sözlük üzerinde değerleri değiştirme, yeni değer ekleme, kullanıcıya ulaşmak istediği bilgileri sorma gibi uygulamalar yapın.\n"
   ]
  },
  {
   "cell_type": "code",
   "execution_count": 142,
   "id": "b874f2c0",
   "metadata": {},
   "outputs": [],
   "source": [
    "def uygula():\n",
    "    while True:\n",
    "        print(\"**************************************\")\n",
    "        print(\"\"\"q. Çıkış \\n1. Yeni değer ekle \\n2. Değer değiştir \\n3. Değer ara \\n4. Değer sil \\n5. Sözlüğü görüntüle\"\"\")\n",
    "        islem_turu = input(\"Yapılacak islemi seciniz: \")\n",
    "        \n",
    "        if islem_turu.lower() == \"q\":\n",
    "            print(\"İslem Sonlandırıldı...\")\n",
    "            break\n",
    "            \n",
    "        elif islem_turu == \"1\":\n",
    "            ekle_isim = input(\"İsim giriniz: \").capitalize()\n",
    "            if ekle_isim not in sozluk:\n",
    "                ekle_mat = int(input(\"Matematik notunuzu giriniz: \"))\n",
    "                ekle_fiz = int(input(\"Fizik notunuzu giriniz: \"))\n",
    "                ekle_kim = int(input(\"Kimya notunuzu giriniz: \"))\n",
    "                yeni_sozluk = { ekle_isim.capitalize() : {\"Matematik\": ekle_mat, \"Fizik\":ekle_fiz,\"Kimya\":ekle_kim}}\n",
    "                sozluk.update(yeni_sozluk)\n",
    "                print(f\"{ekle_isim} adlı öğrenci kaydedilmiştir.\")\n",
    "            else:\n",
    "                print(\"Bu isimde başka bir kayıt var!\")\n",
    "                    \n",
    "        elif islem_turu == \"2\":\n",
    "            degistir_isim = input(\"Kaydı değiştirilecek öğrencini adını giriniz: \").capitalize()\n",
    "            if degistir_isim in sozluk:\n",
    "                degistir_ders = input(\"Kaydı değiştirilecek dersin adını giriniz: \").capitalize()\n",
    "                if degistir_ders in sozluk[degistir_isim]:\n",
    "                    degistir_not = int(input(\"Yeni notu giriniz: \"))\n",
    "                    sozluk[degistir_isim][degistir_ders] = degistir_not\n",
    "                    print(\"Değişiklik tamamlandı.\")\n",
    "                else: print(\"Böyle bir ders bulunmamaktadır.\")\n",
    "            else: print(\"Böyle bir öğrenci bulunmamaktadır.\")\n",
    "\n",
    "        elif islem_turu == \"3\":\n",
    "            aranacak_deger = input(\"Aramak istediğiniz ismi giriniz: \").capitalize()\n",
    "            print(sozluk.get(aranacak_deger))\n",
    "    \n",
    "        elif islem_turu == \"4\":\n",
    "            sil_ = input(\"Silinecek ismi giriniz: \")\n",
    "            sil_cap = sil_.capitalize()\n",
    "            sozluk.pop(sil_cap)\n",
    "            print(f\"{sil_} adlı öğrenci silinmiştir.\")\n",
    "            \n",
    "        elif islem_turu == \"5\":\n",
    "            print(\"**************************************\")\n",
    "            for key,val in sozluk.items():\n",
    "                print(f\"{key}: {val}\")\n",
    "        else: \n",
    "            print(\"Gecersiz islem girdiniz.\")\n",
    "            continue\n",
    "\n",
    "    "
   ]
  },
  {
   "cell_type": "code",
   "execution_count": 143,
   "id": "86f7f1ba",
   "metadata": {},
   "outputs": [
    {
     "name": "stdout",
     "output_type": "stream",
     "text": [
      "**************************************\n",
      "q. Çıkış \n",
      "1. Yeni değer ekle \n",
      "2. Değer değiştir \n",
      "3. Değer ara \n",
      "4. Değer sil \n",
      "5. Sözlüğü görüntüle\n",
      "Yapılacak islemi seciniz: 1\n",
      "İsim giriniz: şeyma\n",
      "Bu isimde başka bir kayıt var!\n",
      "**************************************\n",
      "q. Çıkış \n",
      "1. Yeni değer ekle \n",
      "2. Değer değiştir \n",
      "3. Değer ara \n",
      "4. Değer sil \n",
      "5. Sözlüğü görüntüle\n",
      "Yapılacak islemi seciniz: 2\n",
      "Kaydı değiştirilecek öğrencini adını giriniz: şeyma\n",
      "Kaydı değiştirilecek dersin adını giriniz: Matematik\n",
      "Yeni notu giriniz: 56\n",
      "Değişiklik tamamlandı.\n",
      "**************************************\n",
      "q. Çıkış \n",
      "1. Yeni değer ekle \n",
      "2. Değer değiştir \n",
      "3. Değer ara \n",
      "4. Değer sil \n",
      "5. Sözlüğü görüntüle\n",
      "Yapılacak islemi seciniz: 5\n",
      "**************************************\n",
      "Şeyma: {'Matematik': 56, 'Fizik': 13, 'Kimya': 5}\n",
      "Gül: {'Matematik': 88, 'Fizik': 80, 'Kimya': 93}\n",
      "Ali: {'Matematik': 40, 'Fizik': 45, 'Kimya': 46}\n",
      "Ayşe: {'Matematik': 100, 'Fizik': 99, 'Kimya': 98}\n",
      "Veli: {'Matematik': 22, 'Fizik': 16, 'Kimya': 12}\n",
      "Eda: {'Matematik': 25, 'Fizik': 78, 'Kimya': 99}\n",
      "**************************************\n",
      "q. Çıkış \n",
      "1. Yeni değer ekle \n",
      "2. Değer değiştir \n",
      "3. Değer ara \n",
      "4. Değer sil \n",
      "5. Sözlüğü görüntüle\n",
      "Yapılacak islemi seciniz: 4\n",
      "Silinecek ismi giriniz: Eda\n",
      "Eda adlı öğrenci silinmiştir.\n",
      "**************************************\n",
      "q. Çıkış \n",
      "1. Yeni değer ekle \n",
      "2. Değer değiştir \n",
      "3. Değer ara \n",
      "4. Değer sil \n",
      "5. Sözlüğü görüntüle\n",
      "Yapılacak islemi seciniz: 5\n",
      "**************************************\n",
      "Şeyma: {'Matematik': 56, 'Fizik': 13, 'Kimya': 5}\n",
      "Gül: {'Matematik': 88, 'Fizik': 80, 'Kimya': 93}\n",
      "Ali: {'Matematik': 40, 'Fizik': 45, 'Kimya': 46}\n",
      "Ayşe: {'Matematik': 100, 'Fizik': 99, 'Kimya': 98}\n",
      "Veli: {'Matematik': 22, 'Fizik': 16, 'Kimya': 12}\n",
      "**************************************\n",
      "q. Çıkış \n",
      "1. Yeni değer ekle \n",
      "2. Değer değiştir \n",
      "3. Değer ara \n",
      "4. Değer sil \n",
      "5. Sözlüğü görüntüle\n",
      "Yapılacak islemi seciniz: 4\n",
      "Silinecek ismi giriniz: veli\n",
      "veli adlı öğrenci silinmiştir.\n",
      "**************************************\n",
      "q. Çıkış \n",
      "1. Yeni değer ekle \n",
      "2. Değer değiştir \n",
      "3. Değer ara \n",
      "4. Değer sil \n",
      "5. Sözlüğü görüntüle\n",
      "Yapılacak islemi seciniz: 5\n",
      "**************************************\n",
      "Şeyma: {'Matematik': 56, 'Fizik': 13, 'Kimya': 5}\n",
      "Gül: {'Matematik': 88, 'Fizik': 80, 'Kimya': 93}\n",
      "Ali: {'Matematik': 40, 'Fizik': 45, 'Kimya': 46}\n",
      "Ayşe: {'Matematik': 100, 'Fizik': 99, 'Kimya': 98}\n",
      "**************************************\n",
      "q. Çıkış \n",
      "1. Yeni değer ekle \n",
      "2. Değer değiştir \n",
      "3. Değer ara \n",
      "4. Değer sil \n",
      "5. Sözlüğü görüntüle\n",
      "Yapılacak islemi seciniz: q\n",
      "İslem Sonlandırıldı...\n"
     ]
    }
   ],
   "source": [
    "uygula()"
   ]
  },
  {
   "cell_type": "code",
   "execution_count": null,
   "id": "93463379",
   "metadata": {},
   "outputs": [],
   "source": []
  },
  {
   "cell_type": "code",
   "execution_count": null,
   "id": "7af5361f",
   "metadata": {},
   "outputs": [],
   "source": []
  }
 ],
 "metadata": {
  "kernelspec": {
   "display_name": "Python 3 (ipykernel)",
   "language": "python",
   "name": "python3"
  },
  "language_info": {
   "codemirror_mode": {
    "name": "ipython",
    "version": 3
   },
   "file_extension": ".py",
   "mimetype": "text/x-python",
   "name": "python",
   "nbconvert_exporter": "python",
   "pygments_lexer": "ipython3",
   "version": "3.9.13"
  }
 },
 "nbformat": 4,
 "nbformat_minor": 5
}
