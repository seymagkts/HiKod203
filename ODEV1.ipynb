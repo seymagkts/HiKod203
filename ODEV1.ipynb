{
 "cells": [
  {
   "cell_type": "markdown",
   "id": "f9e7f4dc",
   "metadata": {},
   "source": [
    "Ödev-1: Değişkenlere atanmış değerlerin veri tipleri arasında dönüşüm yapılır."
   ]
  },
  {
   "cell_type": "code",
   "execution_count": 13,
   "id": "c6271311",
   "metadata": {},
   "outputs": [],
   "source": [
    "int_ = 45\n",
    "float_ = 4.5\n",
    "string_ = '455'\n",
    "bool_ = False"
   ]
  },
  {
   "cell_type": "code",
   "execution_count": 9,
   "id": "5b272cef",
   "metadata": {},
   "outputs": [
    {
     "data": {
      "text/plain": [
       "455"
      ]
     },
     "execution_count": 9,
     "metadata": {},
     "output_type": "execute_result"
    }
   ],
   "source": [
    "int(string_)"
   ]
  },
  {
   "cell_type": "code",
   "execution_count": 10,
   "id": "73d20487",
   "metadata": {},
   "outputs": [
    {
     "data": {
      "text/plain": [
       "4"
      ]
     },
     "execution_count": 10,
     "metadata": {},
     "output_type": "execute_result"
    }
   ],
   "source": [
    "int(float_)"
   ]
  },
  {
   "cell_type": "code",
   "execution_count": 11,
   "id": "d961f927",
   "metadata": {},
   "outputs": [
    {
     "data": {
      "text/plain": [
       "45.0"
      ]
     },
     "execution_count": 11,
     "metadata": {},
     "output_type": "execute_result"
    }
   ],
   "source": [
    "float(int_)"
   ]
  },
  {
   "cell_type": "markdown",
   "id": "6ee2a256",
   "metadata": {},
   "source": [
    "Ödev-2: İsimlerden oluşan üç değişkene yaş değerleri atanır. Belirlenen üç değişken birbiriyle karşılaştırma operatörleri ile karşılaştırılır. Bu karşılaştırmalara mantıksal operatörler de eklenir."
   ]
  },
  {
   "cell_type": "code",
   "execution_count": 15,
   "id": "55e5cd0b",
   "metadata": {},
   "outputs": [],
   "source": [
    "seyma = 24\n",
    "gul =  11\n",
    "seymagul = 52"
   ]
  },
  {
   "cell_type": "code",
   "execution_count": 16,
   "id": "bfcdcb51",
   "metadata": {},
   "outputs": [
    {
     "data": {
      "text/plain": [
       "True"
      ]
     },
     "execution_count": 16,
     "metadata": {},
     "output_type": "execute_result"
    }
   ],
   "source": [
    "seyma >= gul"
   ]
  },
  {
   "cell_type": "code",
   "execution_count": 17,
   "id": "88c06c5a",
   "metadata": {},
   "outputs": [
    {
     "data": {
      "text/plain": [
       "True"
      ]
     },
     "execution_count": 17,
     "metadata": {},
     "output_type": "execute_result"
    }
   ],
   "source": [
    "seyma <= seymagul"
   ]
  },
  {
   "cell_type": "code",
   "execution_count": 18,
   "id": "40042cc1",
   "metadata": {},
   "outputs": [
    {
     "data": {
      "text/plain": [
       "False"
      ]
     },
     "execution_count": 18,
     "metadata": {},
     "output_type": "execute_result"
    }
   ],
   "source": [
    "gul == seymagul"
   ]
  },
  {
   "cell_type": "code",
   "execution_count": 19,
   "id": "128a7e22",
   "metadata": {},
   "outputs": [
    {
     "data": {
      "text/plain": [
       "True"
      ]
     },
     "execution_count": 19,
     "metadata": {},
     "output_type": "execute_result"
    }
   ],
   "source": [
    "not(gul == seymagul)"
   ]
  },
  {
   "cell_type": "code",
   "execution_count": 20,
   "id": "91b52149",
   "metadata": {},
   "outputs": [
    {
     "data": {
      "text/plain": [
       "True"
      ]
     },
     "execution_count": 20,
     "metadata": {},
     "output_type": "execute_result"
    }
   ],
   "source": [
    "seyma >= gul or gul == seymagul"
   ]
  },
  {
   "cell_type": "code",
   "execution_count": 21,
   "id": "aa4f1e90",
   "metadata": {},
   "outputs": [
    {
     "data": {
      "text/plain": [
       "False"
      ]
     },
     "execution_count": 21,
     "metadata": {},
     "output_type": "execute_result"
    }
   ],
   "source": [
    "seyma <= seymagul and gul == seymagul"
   ]
  },
  {
   "cell_type": "markdown",
   "id": "88e6ab06",
   "metadata": {},
   "source": [
    "Ödev-3: Kullanıcıdan iki değer girmesini istenir. Girilen değerlerin toplama, çıkarma, çarpma, bölme sonuçlarını yazdırılır.\n"
   ]
  },
  {
   "cell_type": "code",
   "execution_count": 28,
   "id": "8147e433",
   "metadata": {},
   "outputs": [
    {
     "name": "stdout",
     "output_type": "stream",
     "text": [
      "Birinci değeri giriniz: 77\n",
      "İkinci değeri giriniz: 5\n"
     ]
    },
    {
     "data": {
      "text/plain": [
       "'775'"
      ]
     },
     "execution_count": 28,
     "metadata": {},
     "output_type": "execute_result"
    }
   ],
   "source": [
    "deger1 = input('Birinci değeri giriniz: ')\n",
    "deger2 = input('İkinci değeri giriniz: ')\n",
    "\n",
    "deger1 + deger2"
   ]
  },
  {
   "cell_type": "code",
   "execution_count": 31,
   "id": "1de6ca20",
   "metadata": {},
   "outputs": [
    {
     "data": {
      "text/plain": [
       "0.06493506493506493"
      ]
     },
     "execution_count": 31,
     "metadata": {},
     "output_type": "execute_result"
    }
   ],
   "source": [
    "int(deger2) / int(deger1)"
   ]
  },
  {
   "cell_type": "code",
   "execution_count": 33,
   "id": "d4508fa7",
   "metadata": {},
   "outputs": [
    {
     "data": {
      "text/plain": [
       "'55'"
      ]
     },
     "execution_count": 33,
     "metadata": {},
     "output_type": "execute_result"
    }
   ],
   "source": [
    "deger2 * 2"
   ]
  },
  {
   "cell_type": "markdown",
   "id": "0488ef8e",
   "metadata": {},
   "source": [
    "Ödev-4: Kullanıcıdan isim, yaş, şehir ve meslek bilgilerini istenir ve cevaplarını yazdırılır."
   ]
  },
  {
   "cell_type": "code",
   "execution_count": 36,
   "id": "f6bf8745",
   "metadata": {},
   "outputs": [
    {
     "name": "stdout",
     "output_type": "stream",
     "text": [
      "İsim: seyma\n",
      "Yas: 24\n",
      "Sehir: kutahya\n",
      "Meslek: vb\n"
     ]
    }
   ],
   "source": [
    "isim = input('İsim: ')\n",
    "yas = input('Yas: ')\n",
    "sehir = input('Sehir: ')\n",
    "meslek = input('Meslek: ')"
   ]
  },
  {
   "cell_type": "code",
   "execution_count": 38,
   "id": "fe7806cf",
   "metadata": {},
   "outputs": [
    {
     "name": "stdout",
     "output_type": "stream",
     "text": [
      "seyma , 24 , kutahya , vb\n"
     ]
    }
   ],
   "source": [
    "print(isim,',',yas,',',sehir,',',meslek)"
   ]
  },
  {
   "cell_type": "markdown",
   "id": "4e912ee7",
   "metadata": {},
   "source": [
    "Ödev-5: \"Hi-Kod Veri Bilimi Atölyesi\" ifadesini bir değişkene tanımlanır.\n",
    "\n",
    "\n",
    " İfadedeki her bir kelimeyi (\"Hi-Kod\", \"Veri\", \"Bilimi\", \"Atölyesi\") değişken içinden seçilir. \n",
    " İfadeyi hepsini büyük harf olacak hale çevrilir. (\"HI-KOD VERİ BİLİMİ ATÖLYESİ\") \n",
    " İfadeyi hepsini büyük harf olacak hale çevrilir.(\"hi-kod veri bilimi atölyesi\") \n",
    "\n",
    "\"0123456789\" ifadesindeki yalnızca çift sayıları ve yalnızca tek sayıları seçilir. (\"02468\", \"13579\") "
   ]
  },
  {
   "cell_type": "code",
   "execution_count": 39,
   "id": "7d0a19ce",
   "metadata": {},
   "outputs": [],
   "source": [
    "metin = \"Hi-Kod Veri Bilimi Atölyesi\""
   ]
  },
  {
   "cell_type": "code",
   "execution_count": 40,
   "id": "5398c490",
   "metadata": {},
   "outputs": [
    {
     "data": {
      "text/plain": [
       "['Hi-Kod', 'Veri', 'Bilimi', 'Atölyesi']"
      ]
     },
     "execution_count": 40,
     "metadata": {},
     "output_type": "execute_result"
    }
   ],
   "source": [
    "metin.split()"
   ]
  },
  {
   "cell_type": "code",
   "execution_count": 41,
   "id": "84646272",
   "metadata": {},
   "outputs": [
    {
     "data": {
      "text/plain": [
       "'HI-KOD VERI BILIMI ATÖLYESI'"
      ]
     },
     "execution_count": 41,
     "metadata": {},
     "output_type": "execute_result"
    }
   ],
   "source": [
    "metin.upper()"
   ]
  },
  {
   "cell_type": "code",
   "execution_count": 42,
   "id": "1d8d4bdd",
   "metadata": {},
   "outputs": [
    {
     "data": {
      "text/plain": [
       "'hi-kod veri bilimi atölyesi'"
      ]
     },
     "execution_count": 42,
     "metadata": {},
     "output_type": "execute_result"
    }
   ],
   "source": [
    "metin.lower()"
   ]
  },
  {
   "cell_type": "code",
   "execution_count": 48,
   "id": "e10b4644",
   "metadata": {},
   "outputs": [],
   "source": [
    "sayi = \"0123456789\""
   ]
  },
  {
   "cell_type": "code",
   "execution_count": 49,
   "id": "c22b9100",
   "metadata": {},
   "outputs": [],
   "source": [
    "cift = sayi[::2]"
   ]
  },
  {
   "cell_type": "code",
   "execution_count": 50,
   "id": "7edad4dd",
   "metadata": {},
   "outputs": [],
   "source": [
    "tek = sayi[1::2]"
   ]
  },
  {
   "cell_type": "code",
   "execution_count": 51,
   "id": "ce553f1c",
   "metadata": {},
   "outputs": [
    {
     "name": "stdout",
     "output_type": "stream",
     "text": [
      "02468 , 13579\n"
     ]
    }
   ],
   "source": [
    "print(cift,',',tek)"
   ]
  },
  {
   "cell_type": "code",
   "execution_count": null,
   "id": "ab8df57e",
   "metadata": {},
   "outputs": [],
   "source": []
  }
 ],
 "metadata": {
  "kernelspec": {
   "display_name": "Python 3 (ipykernel)",
   "language": "python",
   "name": "python3"
  },
  "language_info": {
   "codemirror_mode": {
    "name": "ipython",
    "version": 3
   },
   "file_extension": ".py",
   "mimetype": "text/x-python",
   "name": "python",
   "nbconvert_exporter": "python",
   "pygments_lexer": "ipython3",
   "version": "3.9.13"
  }
 },
 "nbformat": 4,
 "nbformat_minor": 5
}
