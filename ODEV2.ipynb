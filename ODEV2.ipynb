{
 "cells": [
  {
   "cell_type": "markdown",
   "id": "41b82397",
   "metadata": {},
   "source": [
    "Ödev-1: Kullanıcıdan maaş bilgisini istenir ve bu bilgiye göre maaşından ne kadar vergi kesileceğini hesaplanır. Kullanıcının geliri;\n",
    "\n",
    "\n",
    " 10000 ve altındaysa maaşından %5 kesinti olur. \n",
    " 25000 ve altındaysa maaşından %10 kesinti olur. \n",
    " 45000 ve altındaysa maaşından %25 kesinti olur. \n",
    " Diğer koşullarda %30 kesinti olur. \n",
    "\n",
    "Bu durumlara göre kullanıcının yeni maaşı yazdırılır.\n",
    "\n",
    "\n",
    "\n"
   ]
  },
  {
   "cell_type": "code",
   "execution_count": 17,
   "id": "02688a86",
   "metadata": {},
   "outputs": [
    {
     "name": "stdout",
     "output_type": "stream",
     "text": [
      "Maas bilgisi giriniz: 50000\n"
     ]
    }
   ],
   "source": [
    "maas_bilgisi = int(input('Maas bilgisi giriniz: '))"
   ]
  },
  {
   "cell_type": "code",
   "execution_count": 18,
   "id": "92f50a81",
   "metadata": {},
   "outputs": [
    {
     "data": {
      "text/plain": [
       "35000.0"
      ]
     },
     "execution_count": 18,
     "metadata": {},
     "output_type": "execute_result"
    }
   ],
   "source": [
    "if maas_bilgisi <= 10000:\n",
    "    maas_bilgisi -= (maas_bilgisi * 0.05)\n",
    "elif maas_bilgisi > 10000 and maas_bilgisi <= 25000:\n",
    "    maas_bilgisi -= (maas_bilgisi * 0.10)\n",
    "elif maas_bilgisi > 25000 and maas_bilgisi <= 45000:\n",
    "    maas_bilgisi -= (maas_bilgisi * 0.25)\n",
    "else: maas_bilgisi -= (maas_bilgisi * 0.30)\n",
    "    \n",
    "    \n",
    "maas_bilgisi"
   ]
  },
  {
   "cell_type": "markdown",
   "id": "1c290837",
   "metadata": {},
   "source": [
    "Ödev-2: Kullanıcıdan kullanıcı adı ve şifre oluşturmasını istenir. Şifrenin uzunluğu altı haneye ulaşmışsa hesabınız oluşturuldu mesajı alınır, altı haneden azsa altı haneli şifre oluşturması gerektiğinin mesajı alınır. (Sadece koşul kullanılması yeterli.)\n"
   ]
  },
  {
   "cell_type": "code",
   "execution_count": 21,
   "id": "1efe9c80",
   "metadata": {},
   "outputs": [
    {
     "name": "stdout",
     "output_type": "stream",
     "text": [
      "Kullanıcı adı giriniz: seymagulgoktas\n",
      "Sifre giriniz: 123\n",
      "En az 6 haneli bir sifre olusturunuz.\n",
      "Sifre giriniz: 1244\n",
      "En az 6 haneli bir sifre olusturunuz.\n",
      "Sifre giriniz: 24345657\n",
      "Hesabınız olusturuldu\n"
     ]
    }
   ],
   "source": [
    "kullanici_adi = input('Kullanıcı adı giriniz: ')\n",
    "while True:\n",
    "    sifre = input('Sifre giriniz: ')\n",
    "    if len(sifre) < 6:\n",
    "        print('En az 6 haneli bir sifre olusturunuz.')\n",
    "    else:\n",
    "        print('Hesabınız olusturuldu')\n",
    "        break"
   ]
  },
  {
   "cell_type": "markdown",
   "id": "292a3440",
   "metadata": {},
   "source": [
    "Ödev-3: Bir önceki örnek geliştirilir.\n",
    "\n",
    "\n",
    " Kullanıcı girdiği şifre 5 ve 10 hane arasında olmak zorunda. \n",
    " Eğer bu koşula uyuyorsa \"Hesabınız oluşturuldu.\" mesajı alır. \n",
    " Koşulu sağlamıyorsa \"Lütfen girdiniz şifre 5 haneden az 10 haneden fazla olmasın!\" uyarısı alır. \n",
    " Bunu oluştururken kullanıcı istediğimiz şartlarda şifre oluşturana kadar sormaya devam eder "
   ]
  },
  {
   "cell_type": "code",
   "execution_count": 24,
   "id": "e85b689b",
   "metadata": {},
   "outputs": [
    {
     "name": "stdout",
     "output_type": "stream",
     "text": [
      "Kullanıcı adı giriniz: seymma\n",
      "Sifre giriniz: 12345678900\n",
      "En az 5, en fazla 10 haneli bir sifre olusturunuz.\n",
      "Sifre giriniz: 1234567890576\n",
      "En az 5, en fazla 10 haneli bir sifre olusturunuz.\n",
      "Sifre giriniz: 123456\n",
      "Hesabınız olusturuldu\n"
     ]
    }
   ],
   "source": [
    "kullanici_adi = input('Kullanıcı adı giriniz: ')\n",
    "while True:\n",
    "    sifre = input('Sifre giriniz: ')\n",
    "    if len(sifre) >= 5 and len(sifre) <= 10:\n",
    "        print('Hesabınız olusturuldu')\n",
    "        break\n",
    "    else:\n",
    "        print('En az 5, en fazla 10 haneli bir sifre olusturunuz.')"
   ]
  },
  {
   "cell_type": "markdown",
   "id": "3871f413",
   "metadata": {},
   "source": [
    "\n",
    "Ödev-4: Kullanıcıdan isim ve şifre isteyeceğiz ve şifre girişi için üç hak verilir.\n",
    "\n",
    "\n",
    " Eğer önceden tanımlı şifre ile kullanıcıdan gelen şifre aynıysa \"Giriş yapıldı.\" yazar. \n",
    " Şifre girişi yanlışsa \"Yanlış şifre girildi!\" uyarısı verilsin ve üç yanlış denemede program biter. \n",
    " Tercihe göre kalan hak bilgisi verilir. "
   ]
  },
  {
   "cell_type": "code",
   "execution_count": 28,
   "id": "a2717927",
   "metadata": {},
   "outputs": [
    {
     "name": "stdout",
     "output_type": "stream",
     "text": [
      "Sifre giriniz:1452\n",
      "Yanlış Şifre Girildi\n",
      "Sifre giriniz:14526\n",
      "Yanlış Şifre Girildi\n",
      "Sifre giriniz:5296\n",
      "Hakkınız bitti.\n"
     ]
    }
   ],
   "source": [
    "sifre = 1234\n",
    "sayac = 2\n",
    "while True:\n",
    "    sifre_giris = int(input(\"Sifre giriniz:\"))\n",
    "    if sayac == 0:\n",
    "        print(\"Hakkınız bitti.\")\n",
    "        break\n",
    "    if sifre_giris != sifre:\n",
    "        print(\"Yanlış Şifre Girildi\")\n",
    "        sayac -= 1\n",
    "    else:\n",
    "        print(\"Giriş Yapıldı\")\n",
    "        break\n"
   ]
  },
  {
   "cell_type": "code",
   "execution_count": null,
   "id": "e9745273",
   "metadata": {},
   "outputs": [],
   "source": []
  }
 ],
 "metadata": {
  "kernelspec": {
   "display_name": "Python 3 (ipykernel)",
   "language": "python",
   "name": "python3"
  },
  "language_info": {
   "codemirror_mode": {
    "name": "ipython",
    "version": 3
   },
   "file_extension": ".py",
   "mimetype": "text/x-python",
   "name": "python",
   "nbconvert_exporter": "python",
   "pygments_lexer": "ipython3",
   "version": "3.9.13"
  }
 },
 "nbformat": 4,
 "nbformat_minor": 5
}
