{
 "cells": [
  {
   "cell_type": "markdown",
   "id": "8017dbd5",
   "metadata": {},
   "source": [
    " Sayılardan oluşan bir boyutlu array oluşturulur. Arrayi oluştururken sayıların veri tipini integer olarak belirtilir. Oluşturulan arrayin boyut, eleman sayısı bilgilerine bakılır. \n"
   ]
  },
  {
   "cell_type": "code",
   "execution_count": 5,
   "id": "978129e0",
   "metadata": {},
   "outputs": [],
   "source": [
    "tek_boyutlu = [1,2,3,4] "
   ]
  },
  {
   "cell_type": "code",
   "execution_count": 45,
   "id": "d2edb0ce",
   "metadata": {},
   "outputs": [
    {
     "data": {
      "text/plain": [
       "4"
      ]
     },
     "execution_count": 45,
     "metadata": {},
     "output_type": "execute_result"
    }
   ],
   "source": [
    "len(tek_boyutlu)"
   ]
  },
  {
   "cell_type": "markdown",
   "id": "b9e9eeb8",
   "metadata": {},
   "source": [
    "İki ve üç boyutlu arrayler oluşturulur. Bu arraylerin boyut, eleman sayısı, satır, sütun bilgilerine ulaşılır. Arrayler üzerinde indexleme ve dilimleme(slicing) işlemi yapılır. "
   ]
  },
  {
   "cell_type": "code",
   "execution_count": 14,
   "id": "96f0513d",
   "metadata": {},
   "outputs": [],
   "source": [
    "iki_boyutlu =[[1, 2, 3],\n",
    "              [4, 5, 6],\n",
    "              [7, 8, 9]]"
   ]
  },
  {
   "cell_type": "code",
   "execution_count": 23,
   "id": "d29c0d0f",
   "metadata": {},
   "outputs": [
    {
     "data": {
      "text/plain": [
       "9"
      ]
     },
     "execution_count": 23,
     "metadata": {},
     "output_type": "execute_result"
    }
   ],
   "source": [
    "eleman_sayisi = len(iki_boyutlu) * len(iki_boyutlu[0])\n",
    "eleman_sayisi"
   ]
  },
  {
   "cell_type": "code",
   "execution_count": 21,
   "id": "05656136",
   "metadata": {},
   "outputs": [
    {
     "data": {
      "text/plain": [
       "3"
      ]
     },
     "execution_count": 21,
     "metadata": {},
     "output_type": "execute_result"
    }
   ],
   "source": [
    "len(iki_boyutlu)"
   ]
  },
  {
   "cell_type": "code",
   "execution_count": 20,
   "id": "dd5fd3fa",
   "metadata": {},
   "outputs": [
    {
     "data": {
      "text/plain": [
       "(3, 3)"
      ]
     },
     "execution_count": 20,
     "metadata": {},
     "output_type": "execute_result"
    }
   ],
   "source": [
    "satir_sutun = (len(iki_boyutlu), len(iki_boyutlu[0]))\n",
    "satir_sutun"
   ]
  },
  {
   "cell_type": "code",
   "execution_count": 25,
   "id": "4b842890",
   "metadata": {},
   "outputs": [
    {
     "data": {
      "text/plain": [
       "2"
      ]
     },
     "execution_count": 25,
     "metadata": {},
     "output_type": "execute_result"
    }
   ],
   "source": [
    "iki_boyutlu[0][1]"
   ]
  },
  {
   "cell_type": "code",
   "execution_count": 26,
   "id": "643f5d30",
   "metadata": {},
   "outputs": [
    {
     "data": {
      "text/plain": [
       "[4, 5, 6]"
      ]
     },
     "execution_count": 26,
     "metadata": {},
     "output_type": "execute_result"
    }
   ],
   "source": [
    "iki_boyutlu[1]"
   ]
  },
  {
   "cell_type": "code",
   "execution_count": 27,
   "id": "f7156c0c",
   "metadata": {},
   "outputs": [
    {
     "data": {
      "text/plain": [
       "6"
      ]
     },
     "execution_count": 27,
     "metadata": {},
     "output_type": "execute_result"
    }
   ],
   "source": [
    "iki_boyutlu[1][2]"
   ]
  },
  {
   "cell_type": "code",
   "execution_count": 29,
   "id": "dac155ee",
   "metadata": {},
   "outputs": [
    {
     "data": {
      "text/plain": [
       "[[2], [5], [8]]"
      ]
     },
     "execution_count": 29,
     "metadata": {},
     "output_type": "execute_result"
    }
   ],
   "source": [
    "dilimleme = [satir[1:2] for satir in iki_boyutlu]\n",
    "dilimleme"
   ]
  },
  {
   "cell_type": "code",
   "execution_count": 30,
   "id": "b384882d",
   "metadata": {},
   "outputs": [
    {
     "data": {
      "text/plain": [
       "[[1, 2], [4, 5], [7, 8]]"
      ]
     },
     "execution_count": 30,
     "metadata": {},
     "output_type": "execute_result"
    }
   ],
   "source": [
    "[satir[0:2] for satir in iki_boyutlu]"
   ]
  },
  {
   "cell_type": "markdown",
   "id": "84ede480",
   "metadata": {},
   "source": [
    "üç boyutlu"
   ]
  },
  {
   "cell_type": "code",
   "execution_count": 31,
   "id": "950853eb",
   "metadata": {},
   "outputs": [],
   "source": [
    "uc_boyutlu =[[[1, 2, 3],\n",
    "              [4, 5, 6]],\n",
    "            [[7, 8, 9],\n",
    "             [10, 11, 12]\n",
    "            ]]\n"
   ]
  },
  {
   "cell_type": "code",
   "execution_count": 32,
   "id": "7f1e025b",
   "metadata": {},
   "outputs": [
    {
     "data": {
      "text/plain": [
       "2"
      ]
     },
     "execution_count": 32,
     "metadata": {},
     "output_type": "execute_result"
    }
   ],
   "source": [
    "len(uc_boyutlu)"
   ]
  },
  {
   "cell_type": "code",
   "execution_count": 35,
   "id": "4a0450bd",
   "metadata": {},
   "outputs": [
    {
     "data": {
      "text/plain": [
       "(2, 2, 3)"
      ]
     },
     "execution_count": 35,
     "metadata": {},
     "output_type": "execute_result"
    }
   ],
   "source": [
    "ucboyut_satir_sutun = (len(uc_boyutlu), len(uc_boyutlu[0]), len(uc_boyutlu[0][0]))\n",
    "ucboyut_satir_sutun"
   ]
  },
  {
   "cell_type": "code",
   "execution_count": 37,
   "id": "20c770b7",
   "metadata": {},
   "outputs": [
    {
     "data": {
      "text/plain": [
       "12"
      ]
     },
     "execution_count": 37,
     "metadata": {},
     "output_type": "execute_result"
    }
   ],
   "source": [
    "ucboyut_eleman_sayisi = len(uc_boyutlu) * len(uc_boyutlu[0]) * len(uc_boyutlu[0][0])\n",
    "ucboyut_eleman_sayisi "
   ]
  },
  {
   "cell_type": "code",
   "execution_count": 38,
   "id": "c14a8d1b",
   "metadata": {},
   "outputs": [
    {
     "data": {
      "text/plain": [
       "[4, 5, 6]"
      ]
     },
     "execution_count": 38,
     "metadata": {},
     "output_type": "execute_result"
    }
   ],
   "source": [
    "uc_boyutlu[0][1]"
   ]
  },
  {
   "cell_type": "code",
   "execution_count": 39,
   "id": "b1fe2539",
   "metadata": {},
   "outputs": [
    {
     "data": {
      "text/plain": [
       "2"
      ]
     },
     "execution_count": 39,
     "metadata": {},
     "output_type": "execute_result"
    }
   ],
   "source": [
    "uc_boyutlu[0][0][1]"
   ]
  },
  {
   "cell_type": "code",
   "execution_count": 40,
   "id": "2289459f",
   "metadata": {},
   "outputs": [
    {
     "data": {
      "text/plain": [
       "5"
      ]
     },
     "execution_count": 40,
     "metadata": {},
     "output_type": "execute_result"
    }
   ],
   "source": [
    "uc_boyutlu[0][1][1]"
   ]
  },
  {
   "cell_type": "code",
   "execution_count": 42,
   "id": "59aaacde",
   "metadata": {},
   "outputs": [
    {
     "data": {
      "text/plain": [
       "[[[4, 5, 6]], [[10, 11, 12]]]"
      ]
     },
     "execution_count": 42,
     "metadata": {},
     "output_type": "execute_result"
    }
   ],
   "source": [
    "ucboyut_dilimleme = [katman[1:2] for katman in uc_boyutlu]\n",
    "ucboyut_dilimleme"
   ]
  },
  {
   "cell_type": "code",
   "execution_count": 43,
   "id": "6369d4ae",
   "metadata": {},
   "outputs": [
    {
     "data": {
      "text/plain": [
       "[[[1, 2, 3], [4, 5, 6]], [[7, 8, 9], [10, 11, 12]]]"
      ]
     },
     "execution_count": 43,
     "metadata": {},
     "output_type": "execute_result"
    }
   ],
   "source": [
    "ucboyut_dilimleme = [katman[0:2] for katman in uc_boyutlu]\n",
    "ucboyut_dilimleme"
   ]
  },
  {
   "cell_type": "markdown",
   "id": "4cc9d715",
   "metadata": {},
   "source": [
    " \n",
    " Numpy fonksiyonu kullanarak bir, iki ve üç boyutlu arrayler oluşturulur. Arrayler üzerinde indexleme ve dilimleme(slicing) işlemi yapılır \n"
   ]
  },
  {
   "cell_type": "code",
   "execution_count": 49,
   "id": "34a216b9",
   "metadata": {},
   "outputs": [],
   "source": [
    "import numpy as np"
   ]
  },
  {
   "cell_type": "code",
   "execution_count": 52,
   "id": "8f44ca2a",
   "metadata": {},
   "outputs": [],
   "source": [
    "birboyut_np = np.array([1,2,3,4,5,6,7,8])"
   ]
  },
  {
   "cell_type": "code",
   "execution_count": 54,
   "id": "33346a4b",
   "metadata": {},
   "outputs": [
    {
     "data": {
      "text/plain": [
       "5"
      ]
     },
     "execution_count": 54,
     "metadata": {},
     "output_type": "execute_result"
    }
   ],
   "source": [
    "birboyut_np[1]"
   ]
  },
  {
   "cell_type": "code",
   "execution_count": 55,
   "id": "2f0c9fe0",
   "metadata": {},
   "outputs": [
    {
     "data": {
      "text/plain": [
       "5"
      ]
     },
     "execution_count": 55,
     "metadata": {},
     "output_type": "execute_result"
    }
   ],
   "source": [
    "birboyut_np[4]"
   ]
  },
  {
   "cell_type": "code",
   "execution_count": 56,
   "id": "7e39b560",
   "metadata": {},
   "outputs": [
    {
     "data": {
      "text/plain": [
       "array([1, 2, 3, 4])"
      ]
     },
     "execution_count": 56,
     "metadata": {},
     "output_type": "execute_result"
    }
   ],
   "source": [
    "birboyut_np[0:4]"
   ]
  },
  {
   "cell_type": "code",
   "execution_count": 60,
   "id": "68897ecc",
   "metadata": {},
   "outputs": [
    {
     "data": {
      "text/plain": [
       "array([2, 4, 6])"
      ]
     },
     "execution_count": 60,
     "metadata": {},
     "output_type": "execute_result"
    }
   ],
   "source": [
    "birboyut_np[1:7:2]"
   ]
  },
  {
   "cell_type": "code",
   "execution_count": 51,
   "id": "994d09e0",
   "metadata": {},
   "outputs": [],
   "source": [
    "ikiboyut_np = np.array([[1, 2, 3],\n",
    "                        [4, 5, 6],\n",
    "                        [7, 8, 9],\n",
    "                        [10, 11, 12]])"
   ]
  },
  {
   "cell_type": "code",
   "execution_count": 61,
   "id": "4806631f",
   "metadata": {},
   "outputs": [
    {
     "data": {
      "text/plain": [
       "4"
      ]
     },
     "execution_count": 61,
     "metadata": {},
     "output_type": "execute_result"
    }
   ],
   "source": [
    "ikiboyut_np[1, 0]"
   ]
  },
  {
   "cell_type": "code",
   "execution_count": 62,
   "id": "a7e872ac",
   "metadata": {},
   "outputs": [
    {
     "data": {
      "text/plain": [
       "12"
      ]
     },
     "execution_count": 62,
     "metadata": {},
     "output_type": "execute_result"
    }
   ],
   "source": [
    "ikiboyut_np[3, 2]"
   ]
  },
  {
   "cell_type": "code",
   "execution_count": 63,
   "id": "12897410",
   "metadata": {},
   "outputs": [
    {
     "data": {
      "text/plain": [
       "array([[1, 2, 3],\n",
       "       [4, 5, 6]])"
      ]
     },
     "execution_count": 63,
     "metadata": {},
     "output_type": "execute_result"
    }
   ],
   "source": [
    "ikiboyut_np[:2]"
   ]
  },
  {
   "cell_type": "code",
   "execution_count": 65,
   "id": "c652cf69",
   "metadata": {},
   "outputs": [
    {
     "data": {
      "text/plain": [
       "array([[1, 2, 3]])"
      ]
     },
     "execution_count": 65,
     "metadata": {},
     "output_type": "execute_result"
    }
   ],
   "source": [
    "ikiboyut_np[0:2:2]"
   ]
  },
  {
   "cell_type": "code",
   "execution_count": 50,
   "id": "c6c49d65",
   "metadata": {},
   "outputs": [],
   "source": [
    "ucboyut_np = np.array([[[1, 2, 3],\n",
    "                        [4, 5, 6]],\n",
    "                       [[7, 8, 9],\n",
    "                        [10, 11, 12]]])"
   ]
  },
  {
   "cell_type": "code",
   "execution_count": 66,
   "id": "57f0fe1a",
   "metadata": {},
   "outputs": [
    {
     "data": {
      "text/plain": [
       "8"
      ]
     },
     "execution_count": 66,
     "metadata": {},
     "output_type": "execute_result"
    }
   ],
   "source": [
    "ucboyut_np[1, 0, 1]"
   ]
  },
  {
   "cell_type": "code",
   "execution_count": 67,
   "id": "c15ecd25",
   "metadata": {},
   "outputs": [
    {
     "data": {
      "text/plain": [
       "11"
      ]
     },
     "execution_count": 67,
     "metadata": {},
     "output_type": "execute_result"
    }
   ],
   "source": [
    "ucboyut_np[1, 1, 1]"
   ]
  },
  {
   "cell_type": "code",
   "execution_count": 74,
   "id": "99f05f5a",
   "metadata": {},
   "outputs": [
    {
     "data": {
      "text/plain": [
       "array([[1, 2, 3],\n",
       "       [4, 5, 6]])"
      ]
     },
     "execution_count": 74,
     "metadata": {},
     "output_type": "execute_result"
    }
   ],
   "source": [
    "ucboyut_np[0]"
   ]
  },
  {
   "cell_type": "code",
   "execution_count": 73,
   "id": "e3589f3d",
   "metadata": {},
   "outputs": [
    {
     "data": {
      "text/plain": [
       "array([[[1, 2, 3],\n",
       "        [4, 5, 6]]])"
      ]
     },
     "execution_count": 73,
     "metadata": {},
     "output_type": "execute_result"
    }
   ],
   "source": [
    "ucboyut_np[0:1]"
   ]
  },
  {
   "cell_type": "code",
   "execution_count": 72,
   "id": "79273b99",
   "metadata": {},
   "outputs": [
    {
     "data": {
      "text/plain": [
       "array([[[ 7,  8,  9],\n",
       "        [10, 11, 12]]])"
      ]
     },
     "execution_count": 72,
     "metadata": {},
     "output_type": "execute_result"
    }
   ],
   "source": [
    "ucboyut_np[1:2]"
   ]
  },
  {
   "cell_type": "code",
   "execution_count": 77,
   "id": "d48aea5b",
   "metadata": {},
   "outputs": [
    {
     "data": {
      "text/plain": [
       "(8,)"
      ]
     },
     "execution_count": 77,
     "metadata": {},
     "output_type": "execute_result"
    }
   ],
   "source": [
    "birboyut_np.shape"
   ]
  },
  {
   "cell_type": "code",
   "execution_count": 81,
   "id": "d93d2850",
   "metadata": {},
   "outputs": [
    {
     "data": {
      "text/plain": [
       "8"
      ]
     },
     "execution_count": 81,
     "metadata": {},
     "output_type": "execute_result"
    }
   ],
   "source": [
    "birboyut_np.size"
   ]
  },
  {
   "cell_type": "code",
   "execution_count": 82,
   "id": "49bed55c",
   "metadata": {},
   "outputs": [
    {
     "data": {
      "text/plain": [
       "(4, 3)"
      ]
     },
     "execution_count": 82,
     "metadata": {},
     "output_type": "execute_result"
    }
   ],
   "source": [
    "ikiboyut_np.shape"
   ]
  },
  {
   "cell_type": "code",
   "execution_count": 83,
   "id": "3d534830",
   "metadata": {},
   "outputs": [
    {
     "data": {
      "text/plain": [
       "12"
      ]
     },
     "execution_count": 83,
     "metadata": {},
     "output_type": "execute_result"
    }
   ],
   "source": [
    "ikiboyut_np.size"
   ]
  },
  {
   "cell_type": "code",
   "execution_count": 84,
   "id": "9bca2498",
   "metadata": {},
   "outputs": [
    {
     "data": {
      "text/plain": [
       "(2, 2, 3)"
      ]
     },
     "execution_count": 84,
     "metadata": {},
     "output_type": "execute_result"
    }
   ],
   "source": [
    "ucboyut_np.shape"
   ]
  },
  {
   "cell_type": "code",
   "execution_count": 85,
   "id": "683c8503",
   "metadata": {},
   "outputs": [
    {
     "data": {
      "text/plain": [
       "12"
      ]
     },
     "execution_count": 85,
     "metadata": {},
     "output_type": "execute_result"
    }
   ],
   "source": [
    "ucboyut_np.size"
   ]
  },
  {
   "cell_type": "markdown",
   "id": "077512b5",
   "metadata": {},
   "source": [
    "Sıfırlardan oluşan ve birlerden oluşan iki tane iki boyutlu array oluşturulur. Bu arrayler satır ve sütun bazında birleştirilir. "
   ]
  },
  {
   "cell_type": "code",
   "execution_count": 90,
   "id": "bdb5292b",
   "metadata": {},
   "outputs": [
    {
     "data": {
      "text/plain": [
       "array([[0., 0., 0.],\n",
       "       [0., 0., 0.]])"
      ]
     },
     "execution_count": 90,
     "metadata": {},
     "output_type": "execute_result"
    }
   ],
   "source": [
    "zero_arr =np.zeros((2, 3))\n",
    "zero_arr"
   ]
  },
  {
   "cell_type": "code",
   "execution_count": 91,
   "id": "de7fb7b5",
   "metadata": {},
   "outputs": [
    {
     "data": {
      "text/plain": [
       "array([[1., 1., 1.],\n",
       "       [1., 1., 1.]])"
      ]
     },
     "execution_count": 91,
     "metadata": {},
     "output_type": "execute_result"
    }
   ],
   "source": [
    "one_arr =np.ones((2, 3))\n",
    "one_arr"
   ]
  },
  {
   "cell_type": "code",
   "execution_count": 94,
   "id": "3e72d2fa",
   "metadata": {},
   "outputs": [
    {
     "data": {
      "text/plain": [
       "array([[0., 0., 0.],\n",
       "       [0., 0., 0.],\n",
       "       [1., 1., 1.],\n",
       "       [1., 1., 1.]])"
      ]
     },
     "execution_count": 94,
     "metadata": {},
     "output_type": "execute_result"
    }
   ],
   "source": [
    "satır_array = np.concatenate((zero_arr, one_arr), axis=0)\n",
    "satır_array"
   ]
  },
  {
   "cell_type": "code",
   "execution_count": 95,
   "id": "a3f04c64",
   "metadata": {},
   "outputs": [
    {
     "data": {
      "text/plain": [
       "array([[0., 0., 0., 1., 1., 1.],\n",
       "       [0., 0., 0., 1., 1., 1.]])"
      ]
     },
     "execution_count": 95,
     "metadata": {},
     "output_type": "execute_result"
    }
   ],
   "source": [
    "sutun_array = np.concatenate((zero_arr, one_arr), axis=1)\n",
    "sutun_array"
   ]
  },
  {
   "cell_type": "code",
   "execution_count": null,
   "id": "0cc3387e",
   "metadata": {},
   "outputs": [],
   "source": []
  }
 ],
 "metadata": {
  "kernelspec": {
   "display_name": "Python 3 (ipykernel)",
   "language": "python",
   "name": "python3"
  },
  "language_info": {
   "codemirror_mode": {
    "name": "ipython",
    "version": 3
   },
   "file_extension": ".py",
   "mimetype": "text/x-python",
   "name": "python",
   "nbconvert_exporter": "python",
   "pygments_lexer": "ipython3",
   "version": "3.9.13"
  }
 },
 "nbformat": 4,
 "nbformat_minor": 5
}
