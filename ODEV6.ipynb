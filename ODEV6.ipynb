{
 "cells": [
  {
   "cell_type": "markdown",
   "id": "373833e3",
   "metadata": {},
   "source": [
    " Sayılardan oluşan bir boyutlu array oluşturulur. Arrayi oluştururken sayıların veri tipini integer olarak belirtilir. Oluşturulan arrayin boyut, eleman sayısı bilgilerine bakılır. \n"
   ]
  },
  {
   "cell_type": "code",
   "execution_count": 5,
   "id": "15d3c27f",
   "metadata": {},
   "outputs": [],
   "source": [
    "tek_boyutlu = [1,2,3,4] "
   ]
  },
  {
   "cell_type": "code",
   "execution_count": 45,
   "id": "53edd3cf",
   "metadata": {},
   "outputs": [
    {
     "data": {
      "text/plain": [
       "4"
      ]
     },
     "execution_count": 45,
     "metadata": {},
     "output_type": "execute_result"
    }
   ],
   "source": [
    "len(tek_boyutlu)"
   ]
  },
  {
   "cell_type": "markdown",
   "id": "7a241db9",
   "metadata": {},
   "source": [
    "İki ve üç boyutlu arrayler oluşturulur. Bu arraylerin boyut, eleman sayısı, satır, sütun bilgilerine ulaşılır. Arrayler üzerinde indexleme ve dilimleme(slicing) işlemi yapılır. "
   ]
  },
  {
   "cell_type": "markdown",
   "id": "98f078ae",
   "metadata": {},
   "source": [
    "2 boyut"
   ]
  },
  {
   "cell_type": "code",
   "execution_count": 14,
   "id": "ecdcdc35",
   "metadata": {},
   "outputs": [],
   "source": [
    "iki_boyutlu =[[1, 2, 3],\n",
    "              [4, 5, 6],\n",
    "              [7, 8, 9]]"
   ]
  },
  {
   "cell_type": "code",
   "execution_count": 23,
   "id": "000a56fc",
   "metadata": {},
   "outputs": [
    {
     "data": {
      "text/plain": [
       "9"
      ]
     },
     "execution_count": 23,
     "metadata": {},
     "output_type": "execute_result"
    }
   ],
   "source": [
    "eleman_sayisi = len(iki_boyutlu) * len(iki_boyutlu[0])\n",
    "eleman_sayisi"
   ]
  },
  {
   "cell_type": "code",
   "execution_count": 21,
   "id": "c34e107b",
   "metadata": {},
   "outputs": [
    {
     "data": {
      "text/plain": [
       "3"
      ]
     },
     "execution_count": 21,
     "metadata": {},
     "output_type": "execute_result"
    }
   ],
   "source": [
    "len(iki_boyutlu)"
   ]
  },
  {
   "cell_type": "code",
   "execution_count": 20,
   "id": "4822ffa9",
   "metadata": {},
   "outputs": [
    {
     "data": {
      "text/plain": [
       "(3, 3)"
      ]
     },
     "execution_count": 20,
     "metadata": {},
     "output_type": "execute_result"
    }
   ],
   "source": [
    "satir_sutun = (len(iki_boyutlu), len(iki_boyutlu[0]))\n",
    "satir_sutun"
   ]
  },
  {
   "cell_type": "code",
   "execution_count": 25,
   "id": "7fe88123",
   "metadata": {},
   "outputs": [
    {
     "data": {
      "text/plain": [
       "2"
      ]
     },
     "execution_count": 25,
     "metadata": {},
     "output_type": "execute_result"
    }
   ],
   "source": [
    "iki_boyutlu[0][1]"
   ]
  },
  {
   "cell_type": "code",
   "execution_count": 26,
   "id": "ebec5ca8",
   "metadata": {},
   "outputs": [
    {
     "data": {
      "text/plain": [
       "[4, 5, 6]"
      ]
     },
     "execution_count": 26,
     "metadata": {},
     "output_type": "execute_result"
    }
   ],
   "source": [
    "iki_boyutlu[1]"
   ]
  },
  {
   "cell_type": "code",
   "execution_count": 27,
   "id": "4ef6f934",
   "metadata": {},
   "outputs": [
    {
     "data": {
      "text/plain": [
       "6"
      ]
     },
     "execution_count": 27,
     "metadata": {},
     "output_type": "execute_result"
    }
   ],
   "source": [
    "iki_boyutlu[1][2]"
   ]
  },
  {
   "cell_type": "code",
   "execution_count": 29,
   "id": "0b58e431",
   "metadata": {},
   "outputs": [
    {
     "data": {
      "text/plain": [
       "[[2], [5], [8]]"
      ]
     },
     "execution_count": 29,
     "metadata": {},
     "output_type": "execute_result"
    }
   ],
   "source": [
    "dilimleme = [satir[1:2] for satir in iki_boyutlu]\n",
    "dilimleme"
   ]
  },
  {
   "cell_type": "code",
   "execution_count": 30,
   "id": "b030624a",
   "metadata": {},
   "outputs": [
    {
     "data": {
      "text/plain": [
       "[[1, 2], [4, 5], [7, 8]]"
      ]
     },
     "execution_count": 30,
     "metadata": {},
     "output_type": "execute_result"
    }
   ],
   "source": [
    "[satir[0:2] for satir in iki_boyutlu]"
   ]
  },
  {
   "cell_type": "markdown",
   "id": "0454a037",
   "metadata": {},
   "source": [
    "üç boyutlu"
   ]
  },
  {
   "cell_type": "code",
   "execution_count": 31,
   "id": "78cf64e2",
   "metadata": {},
   "outputs": [],
   "source": [
    "uc_boyutlu =[[[1, 2, 3],\n",
    "              [4, 5, 6]],\n",
    "            [[7, 8, 9],\n",
    "             [10, 11, 12]\n",
    "            ]]\n"
   ]
  },
  {
   "cell_type": "code",
   "execution_count": 32,
   "id": "0ee0d75a",
   "metadata": {},
   "outputs": [
    {
     "data": {
      "text/plain": [
       "2"
      ]
     },
     "execution_count": 32,
     "metadata": {},
     "output_type": "execute_result"
    }
   ],
   "source": [
    "len(uc_boyutlu)"
   ]
  },
  {
   "cell_type": "code",
   "execution_count": 35,
   "id": "4efa51da",
   "metadata": {},
   "outputs": [
    {
     "data": {
      "text/plain": [
       "(2, 2, 3)"
      ]
     },
     "execution_count": 35,
     "metadata": {},
     "output_type": "execute_result"
    }
   ],
   "source": [
    "ucboyut_satir_sutun = (len(uc_boyutlu), len(uc_boyutlu[0]), len(uc_boyutlu[0][0]))\n",
    "ucboyut_satir_sutun"
   ]
  },
  {
   "cell_type": "code",
   "execution_count": 37,
   "id": "6b3277a5",
   "metadata": {},
   "outputs": [
    {
     "data": {
      "text/plain": [
       "12"
      ]
     },
     "execution_count": 37,
     "metadata": {},
     "output_type": "execute_result"
    }
   ],
   "source": [
    "ucboyut_eleman_sayisi = len(uc_boyutlu) * len(uc_boyutlu[0]) * len(uc_boyutlu[0][0])\n",
    "ucboyut_eleman_sayisi "
   ]
  },
  {
   "cell_type": "code",
   "execution_count": 38,
   "id": "bf42ead0",
   "metadata": {},
   "outputs": [
    {
     "data": {
      "text/plain": [
       "[4, 5, 6]"
      ]
     },
     "execution_count": 38,
     "metadata": {},
     "output_type": "execute_result"
    }
   ],
   "source": [
    "uc_boyutlu[0][1]"
   ]
  },
  {
   "cell_type": "code",
   "execution_count": 39,
   "id": "c55d03d2",
   "metadata": {},
   "outputs": [
    {
     "data": {
      "text/plain": [
       "2"
      ]
     },
     "execution_count": 39,
     "metadata": {},
     "output_type": "execute_result"
    }
   ],
   "source": [
    "uc_boyutlu[0][0][1]"
   ]
  },
  {
   "cell_type": "code",
   "execution_count": 40,
   "id": "ad0ca0cd",
   "metadata": {},
   "outputs": [
    {
     "data": {
      "text/plain": [
       "5"
      ]
     },
     "execution_count": 40,
     "metadata": {},
     "output_type": "execute_result"
    }
   ],
   "source": [
    "uc_boyutlu[0][1][1]"
   ]
  },
  {
   "cell_type": "code",
   "execution_count": 42,
   "id": "0a3b7e32",
   "metadata": {},
   "outputs": [
    {
     "data": {
      "text/plain": [
       "[[[4, 5, 6]], [[10, 11, 12]]]"
      ]
     },
     "execution_count": 42,
     "metadata": {},
     "output_type": "execute_result"
    }
   ],
   "source": [
    "ucboyut_dilimleme = [katman[1:2] for katman in uc_boyutlu]\n",
    "ucboyut_dilimleme"
   ]
  },
  {
   "cell_type": "code",
   "execution_count": 97,
   "id": "b4fcce52",
   "metadata": {},
   "outputs": [
    {
     "data": {
      "text/plain": [
       "[[[1, 2, 3], [4, 5, 6]], [[7, 8, 9], [10, 11, 12]]]"
      ]
     },
     "execution_count": 97,
     "metadata": {},
     "output_type": "execute_result"
    }
   ],
   "source": [
    "[katman[0:2] for katman in uc_boyutlu]"
   ]
  },
  {
   "cell_type": "markdown",
   "id": "a76fd4b7",
   "metadata": {},
   "source": [
    " \n",
    " Numpy fonksiyonu kullanarak bir, iki ve üç boyutlu arrayler oluşturulur. Arrayler üzerinde indexleme ve dilimleme(slicing) işlemi yapılır \n"
   ]
  },
  {
   "cell_type": "code",
   "execution_count": 49,
   "id": "0ed22de7",
   "metadata": {},
   "outputs": [],
   "source": [
    "import numpy as np"
   ]
  },
  {
   "cell_type": "code",
   "execution_count": 52,
   "id": "9240fdd6",
   "metadata": {},
   "outputs": [],
   "source": [
    "birboyut_np = np.array([1,2,3,4,5,6,7,8])"
   ]
  },
  {
   "cell_type": "code",
   "execution_count": 54,
   "id": "66a593a3",
   "metadata": {},
   "outputs": [
    {
     "data": {
      "text/plain": [
       "5"
      ]
     },
     "execution_count": 54,
     "metadata": {},
     "output_type": "execute_result"
    }
   ],
   "source": [
    "birboyut_np[1]"
   ]
  },
  {
   "cell_type": "code",
   "execution_count": 55,
   "id": "cc2a6708",
   "metadata": {},
   "outputs": [
    {
     "data": {
      "text/plain": [
       "5"
      ]
     },
     "execution_count": 55,
     "metadata": {},
     "output_type": "execute_result"
    }
   ],
   "source": [
    "birboyut_np[4]"
   ]
  },
  {
   "cell_type": "code",
   "execution_count": 56,
   "id": "b201f2c3",
   "metadata": {},
   "outputs": [
    {
     "data": {
      "text/plain": [
       "array([1, 2, 3, 4])"
      ]
     },
     "execution_count": 56,
     "metadata": {},
     "output_type": "execute_result"
    }
   ],
   "source": [
    "birboyut_np[0:4]"
   ]
  },
  {
   "cell_type": "code",
   "execution_count": 60,
   "id": "aaa6cd75",
   "metadata": {},
   "outputs": [
    {
     "data": {
      "text/plain": [
       "array([2, 4, 6])"
      ]
     },
     "execution_count": 60,
     "metadata": {},
     "output_type": "execute_result"
    }
   ],
   "source": [
    "birboyut_np[1:7:2]"
   ]
  },
  {
   "cell_type": "markdown",
   "id": "9e23eca0",
   "metadata": {},
   "source": [
    "2 boyut"
   ]
  },
  {
   "cell_type": "code",
   "execution_count": 51,
   "id": "1bf8a89e",
   "metadata": {},
   "outputs": [],
   "source": [
    "ikiboyut_np = np.array([[1, 2, 3],\n",
    "                        [4, 5, 6],\n",
    "                        [7, 8, 9],\n",
    "                        [10, 11, 12]])"
   ]
  },
  {
   "cell_type": "code",
   "execution_count": 61,
   "id": "01ac6255",
   "metadata": {},
   "outputs": [
    {
     "data": {
      "text/plain": [
       "4"
      ]
     },
     "execution_count": 61,
     "metadata": {},
     "output_type": "execute_result"
    }
   ],
   "source": [
    "ikiboyut_np[1, 0]"
   ]
  },
  {
   "cell_type": "code",
   "execution_count": 62,
   "id": "0a917dc1",
   "metadata": {},
   "outputs": [
    {
     "data": {
      "text/plain": [
       "12"
      ]
     },
     "execution_count": 62,
     "metadata": {},
     "output_type": "execute_result"
    }
   ],
   "source": [
    "ikiboyut_np[3, 2]"
   ]
  },
  {
   "cell_type": "code",
   "execution_count": 63,
   "id": "9710448d",
   "metadata": {},
   "outputs": [
    {
     "data": {
      "text/plain": [
       "array([[1, 2, 3],\n",
       "       [4, 5, 6]])"
      ]
     },
     "execution_count": 63,
     "metadata": {},
     "output_type": "execute_result"
    }
   ],
   "source": [
    "ikiboyut_np[:2]"
   ]
  },
  {
   "cell_type": "code",
   "execution_count": 65,
   "id": "48bb90ac",
   "metadata": {},
   "outputs": [
    {
     "data": {
      "text/plain": [
       "array([[1, 2, 3]])"
      ]
     },
     "execution_count": 65,
     "metadata": {},
     "output_type": "execute_result"
    }
   ],
   "source": [
    "ikiboyut_np[0:2:2]"
   ]
  },
  {
   "cell_type": "markdown",
   "id": "104066b7",
   "metadata": {},
   "source": [
    "3 boyut"
   ]
  },
  {
   "cell_type": "code",
   "execution_count": 50,
   "id": "f06a729f",
   "metadata": {},
   "outputs": [],
   "source": [
    "ucboyut_np = np.array([[[1, 2, 3],\n",
    "                        [4, 5, 6]],\n",
    "                       [[7, 8, 9],\n",
    "                        [10, 11, 12]]])"
   ]
  },
  {
   "cell_type": "code",
   "execution_count": 66,
   "id": "3b983efc",
   "metadata": {},
   "outputs": [
    {
     "data": {
      "text/plain": [
       "8"
      ]
     },
     "execution_count": 66,
     "metadata": {},
     "output_type": "execute_result"
    }
   ],
   "source": [
    "ucboyut_np[1, 0, 1]"
   ]
  },
  {
   "cell_type": "code",
   "execution_count": 67,
   "id": "78539f62",
   "metadata": {},
   "outputs": [
    {
     "data": {
      "text/plain": [
       "11"
      ]
     },
     "execution_count": 67,
     "metadata": {},
     "output_type": "execute_result"
    }
   ],
   "source": [
    "ucboyut_np[1, 1, 1]"
   ]
  },
  {
   "cell_type": "code",
   "execution_count": 74,
   "id": "4357dfce",
   "metadata": {},
   "outputs": [
    {
     "data": {
      "text/plain": [
       "array([[1, 2, 3],\n",
       "       [4, 5, 6]])"
      ]
     },
     "execution_count": 74,
     "metadata": {},
     "output_type": "execute_result"
    }
   ],
   "source": [
    "ucboyut_np[0]"
   ]
  },
  {
   "cell_type": "code",
   "execution_count": 73,
   "id": "c39a04a5",
   "metadata": {},
   "outputs": [
    {
     "data": {
      "text/plain": [
       "array([[[1, 2, 3],\n",
       "        [4, 5, 6]]])"
      ]
     },
     "execution_count": 73,
     "metadata": {},
     "output_type": "execute_result"
    }
   ],
   "source": [
    "ucboyut_np[0:1]"
   ]
  },
  {
   "cell_type": "code",
   "execution_count": 72,
   "id": "f6647f3d",
   "metadata": {},
   "outputs": [
    {
     "data": {
      "text/plain": [
       "array([[[ 7,  8,  9],\n",
       "        [10, 11, 12]]])"
      ]
     },
     "execution_count": 72,
     "metadata": {},
     "output_type": "execute_result"
    }
   ],
   "source": [
    "ucboyut_np[1:2]"
   ]
  },
  {
   "cell_type": "code",
   "execution_count": 77,
   "id": "b71b2a1b",
   "metadata": {},
   "outputs": [
    {
     "data": {
      "text/plain": [
       "(8,)"
      ]
     },
     "execution_count": 77,
     "metadata": {},
     "output_type": "execute_result"
    }
   ],
   "source": [
    "birboyut_np.shape"
   ]
  },
  {
   "cell_type": "code",
   "execution_count": 81,
   "id": "8f88a543",
   "metadata": {},
   "outputs": [
    {
     "data": {
      "text/plain": [
       "8"
      ]
     },
     "execution_count": 81,
     "metadata": {},
     "output_type": "execute_result"
    }
   ],
   "source": [
    "birboyut_np.size"
   ]
  },
  {
   "cell_type": "code",
   "execution_count": 82,
   "id": "98fcbb3b",
   "metadata": {},
   "outputs": [
    {
     "data": {
      "text/plain": [
       "(4, 3)"
      ]
     },
     "execution_count": 82,
     "metadata": {},
     "output_type": "execute_result"
    }
   ],
   "source": [
    "ikiboyut_np.shape"
   ]
  },
  {
   "cell_type": "code",
   "execution_count": 83,
   "id": "69186345",
   "metadata": {},
   "outputs": [
    {
     "data": {
      "text/plain": [
       "12"
      ]
     },
     "execution_count": 83,
     "metadata": {},
     "output_type": "execute_result"
    }
   ],
   "source": [
    "ikiboyut_np.size"
   ]
  },
  {
   "cell_type": "code",
   "execution_count": 84,
   "id": "24fd82cb",
   "metadata": {},
   "outputs": [
    {
     "data": {
      "text/plain": [
       "(2, 2, 3)"
      ]
     },
     "execution_count": 84,
     "metadata": {},
     "output_type": "execute_result"
    }
   ],
   "source": [
    "ucboyut_np.shape"
   ]
  },
  {
   "cell_type": "code",
   "execution_count": 85,
   "id": "ec43cb44",
   "metadata": {},
   "outputs": [
    {
     "data": {
      "text/plain": [
       "12"
      ]
     },
     "execution_count": 85,
     "metadata": {},
     "output_type": "execute_result"
    }
   ],
   "source": [
    "ucboyut_np.size"
   ]
  },
  {
   "cell_type": "markdown",
   "id": "4003bdf1",
   "metadata": {},
   "source": [
    "Sıfırlardan oluşan ve birlerden oluşan iki tane iki boyutlu array oluşturulur. Bu arrayler satır ve sütun bazında birleştirilir. "
   ]
  },
  {
   "cell_type": "code",
   "execution_count": 90,
   "id": "52e80686",
   "metadata": {},
   "outputs": [
    {
     "data": {
      "text/plain": [
       "array([[0., 0., 0.],\n",
       "       [0., 0., 0.]])"
      ]
     },
     "execution_count": 90,
     "metadata": {},
     "output_type": "execute_result"
    }
   ],
   "source": [
    "zero_arr = np.zeros((2, 3))\n",
    "zero_arr"
   ]
  },
  {
   "cell_type": "code",
   "execution_count": 91,
   "id": "6bb1872f",
   "metadata": {},
   "outputs": [
    {
     "data": {
      "text/plain": [
       "array([[1., 1., 1.],\n",
       "       [1., 1., 1.]])"
      ]
     },
     "execution_count": 91,
     "metadata": {},
     "output_type": "execute_result"
    }
   ],
   "source": [
    "one_arr = np.ones((2, 3))\n",
    "one_arr"
   ]
  },
  {
   "cell_type": "code",
   "execution_count": 94,
   "id": "f575aa0b",
   "metadata": {},
   "outputs": [
    {
     "data": {
      "text/plain": [
       "array([[0., 0., 0.],\n",
       "       [0., 0., 0.],\n",
       "       [1., 1., 1.],\n",
       "       [1., 1., 1.]])"
      ]
     },
     "execution_count": 94,
     "metadata": {},
     "output_type": "execute_result"
    }
   ],
   "source": [
    "satır_array = np.concatenate((zero_arr, one_arr), axis=0)\n",
    "satır_array"
   ]
  },
  {
   "cell_type": "code",
   "execution_count": 95,
   "id": "adc003cb",
   "metadata": {},
   "outputs": [
    {
     "data": {
      "text/plain": [
       "array([[0., 0., 0., 1., 1., 1.],\n",
       "       [0., 0., 0., 1., 1., 1.]])"
      ]
     },
     "execution_count": 95,
     "metadata": {},
     "output_type": "execute_result"
    }
   ],
   "source": [
    "sutun_array = np.concatenate((zero_arr, one_arr), axis=1)\n",
    "sutun_array"
   ]
  },
  {
   "cell_type": "code",
   "execution_count": null,
   "id": "fb2a690a",
   "metadata": {},
   "outputs": [],
   "source": []
  }
 ],
 "metadata": {
  "kernelspec": {
   "display_name": "Python 3 (ipykernel)",
   "language": "python",
   "name": "python3"
  },
  "language_info": {
   "codemirror_mode": {
    "name": "ipython",
    "version": 3
   },
   "file_extension": ".py",
   "mimetype": "text/x-python",
   "name": "python",
   "nbconvert_exporter": "python",
   "pygments_lexer": "ipython3",
   "version": "3.9.13"
  }
 },
 "nbformat": 4,
 "nbformat_minor": 5
}
